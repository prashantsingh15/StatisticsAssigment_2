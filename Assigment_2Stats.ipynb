{
 "cells": [
  {
   "cell_type": "markdown",
   "id": "bdc7c2ff",
   "metadata": {},
   "source": [
    "#### Q1. What are the three measures of central tendency?\n",
    "\n",
    "Ans --> the three measuers of central tendency are - Mean ,Median , Mode.\n"
   ]
  },
  {
   "cell_type": "markdown",
   "id": "ebd1a7cd",
   "metadata": {},
   "source": [
    "#### Q2. What is the difference between the mean, median, and mode? How are they used to measure the central tendency of a dataset?\n",
    "\n",
    "\n",
    "Ans --> Mean is the average value of the given observations . Median is the middle value of the given observations . Mode Is the most repeated value in the gien observation .\n",
    "\n",
    "I) Mean -- The mean is used to represent the typical value of a dataset, and it is calculated by summing all of the values in the dataset and dividing by the number of values. \n",
    "\n",
    "II) Median -- The median is used to represent the middle value of a dataset. It is calculated by arranging all the values in order and selecting the value that is in the middle of the list.\n",
    "\n",
    "\n",
    "III) Mode -- The mode is used to represent the most frequently occurring value in a dataset. It is appropriate for datasets with categorical or nominal data, as it indicates the most common value in the dataset."
   ]
  },
  {
   "cell_type": "markdown",
   "id": "8aa9a908",
   "metadata": {},
   "source": [
    "##### Q3. Measure the three measures of central tendency for the given height data: [178,177,176,177,178.2,178,175,179,180,175,178.9,176.2,177,172.5,178,176.5]\n"
   ]
  },
  {
   "cell_type": "code",
   "execution_count": 3,
   "id": "a15ed7d6",
   "metadata": {},
   "outputs": [
    {
     "data": {
      "text/plain": [
       "177.01875"
      ]
     },
     "execution_count": 3,
     "metadata": {},
     "output_type": "execute_result"
    }
   ],
   "source": [
    "import numpy as np\n",
    "from scipy import stats\n",
    "data = [178,177,176,177,178.2,178,175,179,180,175,178.9,176.2,177,172.5,178,176.5]\n",
    "\n",
    "np.mean(data)\n"
   ]
  },
  {
   "cell_type": "code",
   "execution_count": 5,
   "id": "a68287ed",
   "metadata": {},
   "outputs": [
    {
     "data": {
      "text/plain": [
       "177.0"
      ]
     },
     "execution_count": 5,
     "metadata": {},
     "output_type": "execute_result"
    }
   ],
   "source": [
    "np.median(data)\n",
    "\n",
    "\n"
   ]
  },
  {
   "cell_type": "code",
   "execution_count": 6,
   "id": "40959c7b",
   "metadata": {},
   "outputs": [
    {
     "name": "stderr",
     "output_type": "stream",
     "text": [
      "C:\\Temp\\ipykernel_1716\\3267261142.py:1: FutureWarning: Unlike other reduction functions (e.g. `skew`, `kurtosis`), the default behavior of `mode` typically preserves the axis it acts along. In SciPy 1.11.0, this behavior will change: the default value of `keepdims` will become False, the `axis` over which the statistic is taken will be eliminated, and the value None will no longer be accepted. Set `keepdims` to True or False to avoid this warning.\n",
      "  stats.mode(data)\n"
     ]
    },
    {
     "data": {
      "text/plain": [
       "ModeResult(mode=array([177.]), count=array([3]))"
      ]
     },
     "execution_count": 6,
     "metadata": {},
     "output_type": "execute_result"
    }
   ],
   "source": [
    "stats.mode(data)"
   ]
  },
  {
   "cell_type": "markdown",
   "id": "613050c6",
   "metadata": {},
   "source": [
    "Q4. Find the standard deviation for the given data:\n",
    "[178,177,176,177,178.2,178,175,179,180,175,178.9,176.2,177,172.5,178,176.5]"
   ]
  },
  {
   "cell_type": "code",
   "execution_count": 7,
   "id": "31d32743",
   "metadata": {},
   "outputs": [],
   "source": [
    "import numpy as np"
   ]
  },
  {
   "cell_type": "code",
   "execution_count": 8,
   "id": "24fe25f5",
   "metadata": {},
   "outputs": [],
   "source": [
    "data = [178,177,176,177,178.2,178,175,179,180,175,178.9,176.2,177,172.5,178,176.5]"
   ]
  },
  {
   "cell_type": "code",
   "execution_count": 10,
   "id": "6e006e7a",
   "metadata": {},
   "outputs": [
    {
     "data": {
      "text/plain": [
       "3.199023437500001"
      ]
     },
     "execution_count": 10,
     "metadata": {},
     "output_type": "execute_result"
    }
   ],
   "source": [
    "np.var(data)"
   ]
  },
  {
   "cell_type": "code",
   "execution_count": 11,
   "id": "57f17d69",
   "metadata": {},
   "outputs": [
    {
     "data": {
      "text/plain": [
       "177.01875"
      ]
     },
     "execution_count": 11,
     "metadata": {},
     "output_type": "execute_result"
    }
   ],
   "source": [
    "np.mean(data)"
   ]
  },
  {
   "cell_type": "code",
   "execution_count": 12,
   "id": "36142d02",
   "metadata": {},
   "outputs": [
    {
     "data": {
      "text/plain": [
       "1.7885814036548633"
      ]
     },
     "execution_count": 12,
     "metadata": {},
     "output_type": "execute_result"
    }
   ],
   "source": [
    "np.std(data)"
   ]
  },
  {
   "cell_type": "markdown",
   "id": "6451ef72",
   "metadata": {},
   "source": [
    "### Q5. How are measures of dispersion such as range, variance, and standard deviation used to describe the spread of a dataset? Provide an example.\n"
   ]
  },
  {
   "cell_type": "markdown",
   "id": "9883e936",
   "metadata": {},
   "source": [
    "Range -- The range is the simplest measure of dispersion, and it is simply the difference between the maximum and minimum values in the dataset. The range gives an idea of the spread of the data, but it can be affected by outliers and is not very robust.\n",
    "\n",
    "Variance -- The variance is the average of the squared deviations of each data point from the mean . \n",
    "\n",
    "Std -- The standard deviation is the square root of the variance. \n",
    "\n",
    "The variance and standard deviation give an idea of how much the data points deviate from the mean, with a higher value indicating more spread or variability in the dataset.\n",
    "\n",
    "\n",
    "\n",
    "For example, let's consider two datasets:\n",
    "\n",
    "Dataset A: [1, 2, 3, 4, 5]\n",
    "\n",
    "Dataset B: [1, 1, 2, 4, 10]\n",
    "\n",
    "Both datasets have the same mean of 3, but their spreads are different. Dataset A has a range of 4, a variance of 2.5, and a standard deviation of 1.58, indicating a moderate spread. Dataset B, on the other hand, has a range of 9, a variance of 10.3, and a standard deviation of 3.21, indicating a much larger spread. These measures of dispersion help to differentiate between the two datasets, even though they have the same mean."
   ]
  },
  {
   "cell_type": "markdown",
   "id": "5ef49669",
   "metadata": {},
   "source": [
    "#### Q6. What is a Venn diagram?\n",
    "\n",
    "Ans -- A Venn diagram is a visual tool used to show the relationships between different sets or groups of objects or concepts. It consists of a series of overlapping circles, each representing a set, and the regions where the circles overlap represent the intersection of the sets."
   ]
  },
  {
   "cell_type": "markdown",
   "id": "b369f3c8",
   "metadata": {},
   "source": [
    "#### Q7. For the two given sets A = (2,3,4,5,6,7) & B = (0,2,6,8,10). Find:\n",
    "(i) A B\n",
    "(ii) A ⋃ B"
   ]
  },
  {
   "cell_type": "markdown",
   "id": "269b594c",
   "metadata": {},
   "source": [
    "(i) A ∩ B = The only element that is in both sets A and B is 2. Therefore, A ∩ B = {2}.\n",
    "\n",
    "(ii) A ⋃ B --  A ⋃ B = {0, 2, 3, 4, 5, 6, 7, 8, 10}.\n",
    "for union here we combine the two sets"
   ]
  },
  {
   "cell_type": "markdown",
   "id": "868962ed",
   "metadata": {},
   "source": [
    "### Q8. What do you understand about skewness in data?"
   ]
  },
  {
   "cell_type": "markdown",
   "id": "f0195a2f",
   "metadata": {},
   "source": [
    "Ans --  Skewness is a measure of the asymmetry of a probability distribution. It indicates whether the data is skewed to the left (negatively skewed), skewed to the right (positively skewed), or roughly symmetrical (approximately normal)."
   ]
  },
  {
   "cell_type": "markdown",
   "id": "d440e806",
   "metadata": {},
   "source": [
    "### Q9. If a data is right skewed then what will be the position of median with respect to mean?"
   ]
  },
  {
   "cell_type": "markdown",
   "id": "3ed11d5e",
   "metadata": {},
   "source": [
    "Ans -- If a data is right-skewed, the position of the median with respect to the mean will be to the left of the mean.\n",
    "\n"
   ]
  },
  {
   "cell_type": "markdown",
   "id": "f854c239",
   "metadata": {},
   "source": [
    "### Q10. Explain the difference between covariance and correlation. How are these measures used in statistical analysis?\n"
   ]
  },
  {
   "cell_type": "markdown",
   "id": "5339882b",
   "metadata": {},
   "source": [
    "Ans -- Covariance measures the direction and strength of the linear relationship between two variables, while correlation measures the strength and direction of the linear relationship between two variables on a standardized scale. Both measures are used in statistical analysis to assess the relationship between variables, but correlation is a more commonly used measure as it is easier to interpret and compare."
   ]
  },
  {
   "cell_type": "markdown",
   "id": "d5fd03ee",
   "metadata": {},
   "source": [
    "### Q11. What is the formula for calculating the sample mean? Provide an example calculation for a dataset.\n"
   ]
  },
  {
   "cell_type": "markdown",
   "id": "0c95544f",
   "metadata": {},
   "source": [
    "Ans -- ( sample mean) = (sum of all observations) / (number of observations) .\n",
    "\n",
    "Example -- {2, 4, 6, 8, 10}\n",
    "\n",
    "We first sum all of the observations:\n",
    "\n",
    "2 + 4 + 6 + 8 + 10 = 30\n",
    "\n",
    "Then, we divide the sum by the number of observations:\n",
    "\n",
    "(sample mean) = 30 / 5 = 6\n",
    " ans = 6\n"
   ]
  },
  {
   "cell_type": "markdown",
   "id": "784a097a",
   "metadata": {},
   "source": [
    "### Q12. For a normal distribution data what is the relationship between its measure of central tendency? "
   ]
  },
  {
   "cell_type": "markdown",
   "id": "21760e4d",
   "metadata": {},
   "source": [
    "Ans -- For a normal distribution, the measures of central tendency (mean, median, and mode) are equal and coincide at the center of the distribution. This is because a normal distribution is symmetric around its mean, so the median and mode are also located at the same point. This relationship holds true for all normal distributions, regardless of their means and standard deviations."
   ]
  },
  {
   "cell_type": "markdown",
   "id": "ad326dd0",
   "metadata": {},
   "source": [
    "### Q13. How is covariance different from correlation?\n"
   ]
  },
  {
   "cell_type": "markdown",
   "id": "2c1a77a3",
   "metadata": {},
   "source": [
    "Ans -- \n",
    "Covariance and correlation are both measures of the relationship between two variables, but covariance is not standardized and difficult to compare, while correlation is standardized and ranges from -1 to 1. Correlation is often used over covariance because it allows for easier interpretation and comparison."
   ]
  },
  {
   "cell_type": "markdown",
   "id": "8e63dd7a",
   "metadata": {},
   "source": [
    "### Q14. How do outliers affect measures of central tendency and dispersion? Provide an example."
   ]
  },
  {
   "cell_type": "markdown",
   "id": "11422fc2",
   "metadata": {},
   "source": [
    "Ans -- Outliers can significantly impact measures of central tendency and dispersion. The mean can be skewed towards the direction of the outlier, while the median is less affected. The range, variance, and standard deviation can also be significantly impacted.\n",
    "\n",
    "example - Consider a data set of test scores where all students score between 50 and 90, except for one student who scores 150. This one outlier can cause the mean to be higher than expected, and the range, variance, and standard deviation to be larger than what they would be if the outlier were not present.\n"
   ]
  }
 ],
 "metadata": {
  "kernelspec": {
   "display_name": "Python 3 (ipykernel)",
   "language": "python",
   "name": "python3"
  },
  "language_info": {
   "codemirror_mode": {
    "name": "ipython",
    "version": 3
   },
   "file_extension": ".py",
   "mimetype": "text/x-python",
   "name": "python",
   "nbconvert_exporter": "python",
   "pygments_lexer": "ipython3",
   "version": "3.11.2"
  }
 },
 "nbformat": 4,
 "nbformat_minor": 5
}
